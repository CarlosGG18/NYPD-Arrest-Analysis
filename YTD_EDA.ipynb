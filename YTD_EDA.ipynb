{
 "cells": [
  {
   "cell_type": "code",
   "execution_count": 1,
   "metadata": {},
   "outputs": [],
   "source": [
    "import pandas as pd\n",
    "import numpy as np"
   ]
  },
  {
   "cell_type": "code",
   "execution_count": 8,
   "metadata": {},
   "outputs": [],
   "source": [
    "data_types = {\n",
    "    'PD_DESC': 'category',\n",
    "    'OFNS_DESC': 'category',\n",
    "    'LAW_CODE': 'category',\n",
    "    'LAW_CAT_CD': 'category',\n",
    "    'ARREST_BORO': 'category',\n",
    "    'ARREST_PRECINCT': 'category',\n",
    "    'JURISDICTION_CODE': 'category',\n",
    "    'AGE_GROUP': 'category',\n",
    "    'PERP_SEX': 'category',\n",
    "    'PERP_RACE': 'category'\n",
    "}\n",
    "\n",
    "ytd_df = pd.read_csv('cleaned_YTD_nypd_arrest_date.csv', dtype=data_types)"
   ]
  },
  {
   "cell_type": "code",
   "execution_count": 10,
   "metadata": {},
   "outputs": [],
   "source": [
    "ytd_df['ARREST_DATE'] = pd.to_datetime(ytd_df['ARREST_DATE'])"
   ]
  },
  {
   "cell_type": "code",
   "execution_count": 11,
   "metadata": {},
   "outputs": [
    {
     "name": "stdout",
     "output_type": "stream",
     "text": [
      "<class 'pandas.core.frame.DataFrame'>\n",
      "RangeIndex: 63210 entries, 0 to 63209\n",
      "Data columns (total 14 columns):\n",
      " #   Column             Non-Null Count  Dtype         \n",
      "---  ------             --------------  -----         \n",
      " 0   ARREST_DATE        63210 non-null  datetime64[ns]\n",
      " 1   PD_DESC            63210 non-null  category      \n",
      " 2   KY_CD              63210 non-null  float64       \n",
      " 3   OFNS_DESC          63210 non-null  category      \n",
      " 4   LAW_CODE           63210 non-null  category      \n",
      " 5   LAW_CAT_CD         63210 non-null  category      \n",
      " 6   ARREST_BORO        63210 non-null  category      \n",
      " 7   ARREST_PRECINCT    63210 non-null  category      \n",
      " 8   JURISDICTION_CODE  63210 non-null  category      \n",
      " 9   AGE_GROUP          63210 non-null  category      \n",
      " 10  PERP_SEX           63210 non-null  category      \n",
      " 11  PERP_RACE          63210 non-null  category      \n",
      " 12  Latitude           63210 non-null  float64       \n",
      " 13  Longitude          63210 non-null  float64       \n",
      "dtypes: category(10), datetime64[ns](1), float64(3)\n",
      "memory usage: 2.7 MB\n"
     ]
    }
   ],
   "source": [
    "ytd_df.info()"
   ]
  },
  {
   "cell_type": "code",
   "execution_count": null,
   "metadata": {},
   "outputs": [],
   "source": []
  }
 ],
 "metadata": {
  "kernelspec": {
   "display_name": "Python 3",
   "language": "python",
   "name": "python3"
  },
  "language_info": {
   "codemirror_mode": {
    "name": "ipython",
    "version": 3
   },
   "file_extension": ".py",
   "mimetype": "text/x-python",
   "name": "python",
   "nbconvert_exporter": "python",
   "pygments_lexer": "ipython3",
   "version": "3.10.9"
  }
 },
 "nbformat": 4,
 "nbformat_minor": 2
}
